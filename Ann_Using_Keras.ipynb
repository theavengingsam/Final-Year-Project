{
  "nbformat": 4,
  "nbformat_minor": 0,
  "metadata": {
    "colab": {
      "name": "Hello, Colaboratory",
      "version": "0.3.2",
      "provenance": [],
      "collapsed_sections": [],
      "toc_visible": true,
      "include_colab_link": true
    },
    "kernelspec": {
      "display_name": "Python 3",
      "name": "python3"
    }
  },
  "cells": [
    {
      "cell_type": "markdown",
      "metadata": {
        "id": "view-in-github",
        "colab_type": "text"
      },
      "source": [
        "<a href=\"https://colab.research.google.com/github/theavengingsam/Final-Year-Project/blob/master/Ann_Using_Keras.ipynb\" target=\"_parent\"><img src=\"https://colab.research.google.com/assets/colab-badge.svg\" alt=\"Open In Colab\"/></a>"
      ]
    },
    {
      "metadata": {
        "colab_type": "text",
        "id": "9J7p406abzgl"
      },
      "cell_type": "markdown",
      "source": [
        "<img height=\"60px\" src=\"https://colab.research.google.com/img/colab_favicon.ico\" align=\"left\" hspace=\"20px\" vspace=\"5px\">\n",
        "\n",
        "<h1>Welcome to Colaboratory!</h1>\n",
        "Colaboratory is a free Jupyter notebook environment that requires no setup and runs entirely in the cloud. See our [FAQ](https://research.google.com/colaboratory/faq.html) for more info."
      ]
    },
    {
      "metadata": {
        "colab_type": "text",
        "id": "-Rh3-Vt9Nev9"
      },
      "cell_type": "markdown",
      "source": [
        "## Getting Started\n",
        "- [Overview of Colaboratory](/notebooks/basic_features_overview.ipynb)\n",
        "- [Loading and saving data: Local files, Drive, Sheets, Google Cloud Storage](/notebooks/io.ipynb)\n",
        "- [Importing libraries and installing dependencies](/notebooks/snippets/importing_libraries.ipynb)\n",
        "- [Using Google Cloud BigQuery](/notebooks/bigquery.ipynb)\n",
        "- [Forms](/notebooks/forms.ipynb), [Charts](/notebooks/charts.ipynb), [Markdown](/notebooks/markdown_guide.ipynb), & [Widgets](/notebooks/widgets.ipynb)\n",
        "- [TensorFlow with GPU](/notebooks/gpu.ipynb)\n",
        "- [TensorFlow with TPU](/notebooks/tpu.ipynb)\n",
        "- [Machine Learning Crash Course](https://developers.google.com/machine-learning/crash-course/): [Intro to Pandas](/notebooks/mlcc/intro_to_pandas.ipynb) & [First Steps with TensorFlow](/notebooks/mlcc/first_steps_with_tensor_flow.ipynb)\n",
        "- [Using Colab with GitHub](https://colab.research.google.com/github/googlecolab/colabtools/blob/master/notebooks/colab-github-demo.ipynb)\n"
      ]
    },
    {
      "metadata": {
        "colab_type": "text",
        "id": "1fr51oVCHRZU"
      },
      "cell_type": "markdown",
      "source": [
        "## Highlighted Features\n",
        "### Seedbank\n",
        "\n",
        "Looking for Colab notebooks to learn from? Check out [Seedbank](https://tools.google.com/seedbank/), a place to discover interactive machine learning examples."
      ]
    },
    {
      "metadata": {
        "colab_type": "text",
        "id": "9wi5kfGdhK0R"
      },
      "cell_type": "markdown",
      "source": [
        "### TensorFlow execution"
      ]
    },
    {
      "metadata": {
        "colab_type": "text",
        "id": "S9GW-n-oYWIj"
      },
      "cell_type": "markdown",
      "source": [
        "Colaboratory allows you to execute TensorFlow code in your browser with a single click. The example below adds two matrices.\n",
        "\n",
        "$\\begin{bmatrix}\n",
        "  1. & 1. & 1. \\\\\n",
        "  1. & 1. & 1. \\\\\n",
        "\\end{bmatrix} +\n",
        "\\begin{bmatrix}\n",
        "  1. & 2. & 3. \\\\\n",
        "  4. & 5. & 6. \\\\\n",
        "\\end{bmatrix} =\n",
        "\\begin{bmatrix}\n",
        "  2. & 3. & 4. \\\\\n",
        "  5. & 6. & 7. \\\\\n",
        "\\end{bmatrix}$"
      ]
    },
    {
      "metadata": {
        "colab_type": "code",
        "id": "oYZkU7ZN3CL0",
        "outputId": "9589151d-5ff4-4bca-f05e-8bcba8ffcba1",
        "colab": {
          "base_uri": "https://localhost:8080/",
          "height": 53
        }
      },
      "cell_type": "code",
      "source": [
        "import tensorflow as tf\n",
        "\n",
        "input1 = tf.ones((2, 3))\n",
        "input2 = tf.reshape(tf.range(1, 7, dtype=tf.float32), (2, 3))\n",
        "output = input1 + input2\n",
        "\n",
        "with tf.Session():\n",
        "  result = output.eval()\n",
        "result  "
      ],
      "execution_count": 0,
      "outputs": [
        {
          "output_type": "execute_result",
          "data": {
            "text/plain": [
              "array([[2., 3., 4.],\n",
              "       [5., 6., 7.]], dtype=float32)"
            ]
          },
          "metadata": {
            "tags": []
          },
          "execution_count": 0
        }
      ]
    },
    {
      "metadata": {
        "colab_type": "text",
        "id": "nwYF0E3Sjiy4"
      },
      "cell_type": "markdown",
      "source": [
        "### GitHub\n",
        "\n",
        "For a full discussion of interactions between Colab and GitHub, see [Using Colab with GitHub](https://colab.research.google.com/github/googlecolab/colabtools/blob/master/notebooks/colab-github-demo.ipynb). As a brief summary:\n",
        "\n",
        "To save a copy of your Colab notebook to Github, select *File → Save a copy to GitHub…*\n",
        "\n",
        "To load a specific notebook from github, append the github path to http://colab.research.google.com/github/.\n",
        "For example to load this notebook in Colab: [https://github.com/tensorflow/docs/blob/master/site/en/tutorials/_index.ipynb](https://github.com/tensorflow/docs/blob/master/site/en/tutorials/_index.ipynb) use the following Colab URL: [https://colab.research.google.com/github/tensorflow/docs/blob/master/site/en/tutorials/_index.ipynb](https://colab.research.google.com/github/tensorflow/docs/blob/master/site/en/tutorials/_index.ipynb)\n",
        "\n",
        "To open a github notebook in one click, we recommend installing the [Open in Colab Chrome Extension](https://chrome.google.com/webstore/detail/open-in-colab/iogfkhleblhcpcekbiedikdehleodpjo).\n",
        "\n"
      ]
    },
    {
      "metadata": {
        "colab_type": "text",
        "id": "yv2XIwi5hQ_g"
      },
      "cell_type": "markdown",
      "source": [
        "### Visualization"
      ]
    },
    {
      "metadata": {
        "colab_type": "text",
        "id": "rYs5mx2JZkmy"
      },
      "cell_type": "markdown",
      "source": [
        "Colaboratory includes widely used libraries like [matplotlib](https://matplotlib.org/), simplifying visualization."
      ]
    },
    {
      "metadata": {
        "colab_type": "code",
        "id": "xqrc5C-IaA5J",
        "outputId": "3460cc84-faf8-4d8c-a4e6-96a6809c389a",
        "colab": {
          "height": 360
        }
      },
      "cell_type": "code",
      "source": [
        "import matplotlib.pyplot as plt\n",
        "import numpy as np\n",
        "\n",
        "x = np.arange(20)\n",
        "y = [x_i + np.random.randn(1) for x_i in x]\n",
        "a, b = np.polyfit(x, y, 1)\n",
        "_ = plt.plot(x, y, 'o', np.arange(20), a*np.arange(20)+b, '-')"
      ],
      "execution_count": 0,
      "outputs": [
        {
          "output_type": "display_data",
          "data": {
            "image/png": "[encoded data removed]",
            "text/plain": [
              "<matplotlib.figure.Figure at 0x562d64cf1b10>"
            ]
          },
          "metadata": {
            "tags": []
          }
        }
      ]
    },
    {
      "metadata": {
        "colab_type": "text",
        "id": "AN_LRQ9NkOjs"
      },
      "cell_type": "markdown",
      "source": [
        "Want to use a new library?  `pip install` it at the top of the notebook. Then that library can be used anywhere else in the notebook. For recipes to import commonly used libraries, refer to the [importing libraries example notebook](/notebooks/snippets/importing_libraries.ipynb)."
      ]
    },
    {
      "metadata": {
        "colab_type": "code",
        "id": "FlQq0SUepQbd",
        "outputId": "6e404831-3336-4633-b76f-c6313ecdd356",
        "colab": {
          "base_uri": "https://localhost:8080/",
          "height": 349
        }
      },
      "cell_type": "code",
      "source": [
        "!pip install -q matplotlib-venn\n",
        "\n",
        "from matplotlib_venn import venn2\n",
        "_ = venn2(subsets = (3, 2, 1))"
      ],
      "execution_count": 0,
      "outputs": [
        {
          "output_type": "display_data",
          "data": {
            "image/png": "[encoded data removed]",
            "text/plain": [
              "<matplotlib.figure.Figure at 0x7f48ff99ff10>"
            ]
          },
          "metadata": {
            "tags": []
          }
        }
      ]
    },
    {
      "metadata": {
        "colab_type": "text",
        "id": "LxZ3dPzYnyNF"
      },
      "cell_type": "markdown",
      "source": [
        "### Forms\n",
        "\n",
        "Forms can be used to parameterize code. See the [forms example notebook](/notebooks/forms.ipynb) for more details."
      ]
    },
    {
      "metadata": {
        "colab_type": "code",
        "id": "FQ_Hx_9tn7uF",
        "colab": {}
      },
      "cell_type": "code",
      "source": [
        "#@title Examples\n",
        "\n",
        "text = 'value' #@param \n",
        "date_input = '2018-03-22' #@param {type:\"date\"}\n",
        "number_slider = 0 #@param {type:\"slider\", min:-1, max:1, step:0.1}\n",
        "dropdown = '1st option' #@param [\"1st option\", \"2nd option\", \"3rd option\"]\n"
      ],
      "execution_count": 0,
      "outputs": []
    },
    {
      "metadata": {
        "colab_type": "text",
        "id": "rTX3heEtu0b2"
      },
      "cell_type": "markdown",
      "source": [
        "### Local runtime support\n",
        "\n",
        "Colab  supports connecting to a Jupyter runtime on your local machine. For more information, see our [documentation](https://research.google.com/colaboratory/local-runtimes.html)."
      ]
    },
    {
      "metadata": {
        "id": "-1wtmbq9ypC2",
        "colab_type": "text"
      },
      "cell_type": "markdown",
      "source": [
        ""
      ]
    },
    {
      "metadata": {
        "id": "NGeE5-I3ypbb",
        "colab_type": "code",
        "colab": {
          "base_uri": "https://localhost:8080/",
          "height": 4954
        },
        "outputId": "e2948256-5266-42f2-b2bc-89e81979bf91"
      },
      "cell_type": "code",
      "source": [
        "import matplotlib.pyplot as plt\n",
        "import numpy as np\n",
        "import pandas as pd\n",
        "from sklearn.metrics import explained_variance_score\n",
        "from sklearn.metrics import mean_absolute_error\n",
        "from sklearn.model_selection import train_test_split\n",
        "from sklearn.model_selection import cross_val_score\n",
        "from sklearn.model_selection import KFold\n",
        "from sklearn.pipeline import Pipeline\n",
        "from sklearn.preprocessing import MinMaxScaler\n",
        "from tensorflow.python.keras.models import Sequential\n",
        "from tensorflow.python.keras.layers import Dense\n",
        "from tensorflow.python.keras.wrappers.scikit_learn import KerasRegressor\n",
        "import math  \n",
        "import os\n",
        "# path='C:\\\\Users\\\\samee\\\\Desktop\\\\New folder (3)'\n",
        "# os.chdir(path)\n",
        "# os.getcwd()\n",
        "np.random.seed(7)\n",
        "#Variables\n",
        "whole = pd.read_csv(r\"wholenew.csv\")\n",
        "# train = pd.read_csv(r\"train.csv\")\n",
        "# test = pd.read_csv(r\"test.csv\")\n",
        "\n",
        "whole = whole.loc[:,['Rain_Oct','Rain_Sep','MinTemp_Dec' ,'AvgTemp_Jan','AvgTemp_Feb' ,'MinTemp_Jan' ,'MinTemp_Feb' ,'AvgTemp_Dec', 'CloudCover_Feb' ,'CloudCover_May','CloudCover_Jun','CloudCover_Jul','CloudCover_Aug','CloudCover_Sep','CloudCover_Oct', 'MaxTemp_Jan', 'MaxTemp_Feb' ,'MaxTemp_Oct', 'MaxTemp_Dec','pH rating' ,'EC rating', 'OC rating' ,'N rating' ,'P rating' ,'K rating','S rating', 'Zn rating' ,'Fe rating','Cu rating','Mn rating','Wheat']]\n",
        "X_whole =whole.loc[:,['Rain_Oct','Rain_Sep','MinTemp_Dec' ,'AvgTemp_Jan','AvgTemp_Feb' ,'MinTemp_Jan' ,'MinTemp_Feb' ,'AvgTemp_Dec', 'CloudCover_Feb' ,'CloudCover_May','CloudCover_Jun','CloudCover_Jul','CloudCover_Aug','CloudCover_Sep','CloudCover_Oct', 'MaxTemp_Jan', 'MaxTemp_Feb' ,'MaxTemp_Oct', 'MaxTemp_Dec','pH rating' ,'EC rating', 'OC rating' ,'N rating' ,'P rating' ,'K rating','S rating', 'Zn rating' ,'Fe rating','Cu rating','Mn rating']]\n",
        "y_whole =whole.loc[:,['Wheat']]\n",
        "# train = train.loc[:,['Rain_Oct','Rain_Sep','MinTemp_Dec' ,'AvgTemp_Jan','AvgTemp_Feb' ,'MinTemp_Jan' ,'MinTemp_Feb' ,'AvgTemp_Dec', 'CloudCover_Feb' ,'CloudCover_May','CloudCover_Jun','CloudCover_Jul','CloudCover_Aug','CloudCover_Sep','CloudCover_Oct', 'MaxTemp_Jan', 'MaxTemp_Feb' ,'MaxTemp_Oct', 'MaxTemp_Dec','pH rating' ,'EC rating', 'OC rating' ,'N rating' ,'P rating' ,'K rating','S rating', 'Zn rating' ,'Fe rating','Cu rating','Mn rating','Wheat']]\n",
        "# test = test.loc[:,['Rain_Oct','Rain_Sep','MinTemp_Dec' ,'AvgTemp_Jan','AvgTemp_Feb' ,'MinTemp_Jan' ,'MinTemp_Feb' ,'AvgTemp_Dec', 'CloudCover_Feb' ,'CloudCover_May','CloudCover_Jun','CloudCover_Jul','CloudCover_Aug','CloudCover_Sep','CloudCover_Oct', 'MaxTemp_Jan', 'MaxTemp_Feb' ,'MaxTemp_Oct', 'MaxTemp_Dec','pH rating' ,'EC rating', 'OC rating' ,'N rating' ,'P rating' ,'K rating','S rating', 'Zn rating' ,'Fe rating','Cu rating','Mn rating','Wheat']]\n",
        "\n",
        "# X_train = train.loc[:,['Rain_Oct','Rain_Sep','MinTemp_Dec' ,'AvgTemp_Jan','AvgTemp_Feb' ,'MinTemp_Jan' ,'MinTemp_Feb' ,'AvgTemp_Dec', 'CloudCover_Feb' ,'CloudCover_May','CloudCover_Jun','CloudCover_July','CloudCover_Aug','CloudCover_Sep','CloudCover_Oct', 'MaxTemp_Jan', 'MaxTemp_Feb' ,'MaxTemp_Oct', 'MaxTemp_Dec','pH rating' ,'EC rating', 'OC rating' ,'N rating' ,'P rating' ,'K rating','S rating', 'Zn rating' ,'Fe rating','Cu rating','Mn rating']]\n",
        "# X_test = test.loc[:,['Rain_Oct','Rain_Sep','MinTemp_Dec' ,'AvgTemp_Jan','AvgTemp_Feb' ,'MinTemp_Jan' ,'MinTemp_Feb' ,'AvgTemp_Dec', 'CloudCover_Feb' ,'CloudCover_May','CloudCover_Jun','CloudCover_July','CloudCover_Aug','CloudCover_Sep','CloudCover_Oct', 'MaxTemp_Jan', 'MaxTemp_Feb' ,'MaxTemp_Oct', 'MaxTemp_Dec','pH rating' ,'EC rating', 'OC rating' ,'N rating' ,'P rating' ,'K rating','S rating', 'Zn rating' ,'Fe rating','Cu rating','Mn rating']]\n",
        "\n",
        "# y_train = train.loc[:,'Wheat']\n",
        "# y_test = test.loc[:,'Wheat']\n",
        "\n",
        "\n",
        "scaler = MinMaxScaler()\n",
        "X_whole=scaler.fit_transform(X_whole)\n",
        "y_whole=scaler.fit_transform(y_whole)\n",
        "\n",
        "print(\"X_whole\\n\")\n",
        "print(X_whole)\n",
        "print(\"y_whole\\n\")\n",
        "print(y_whole)\n",
        "\n",
        "\n",
        "X_train = X_whole[0:76,:]\n",
        "y_train = y_whole[0:76,-1]\n",
        "\n",
        "X_test = X_whole[76:93,:]\n",
        "y_test = y_whole[76:93,-1]\n",
        "print('X_train\\n')\n",
        "print(X_train)\n",
        "print('y_train\\n')\n",
        "print(y_train)\n",
        "print('X_test\\n')\n",
        "print(X_test)\n",
        "print('y_test\\n')\n",
        "print(y_test)\n",
        "\n",
        "model = Sequential()\n",
        "model.add(Dense(80, input_dim=30, kernel_initializer='normal', activation='relu'))\n",
        "model.add(Dense(1, activation='linear'))\n",
        "model.summary()\n",
        "\n",
        "model.compile(loss='mse', optimizer='adam', metrics=['mse','mae'])\n",
        "\n",
        "history = model.fit(X_train, y_train, epochs=200, batch_size=5,  verbose=0, validation_split=0.0)\n",
        "\n",
        "print(history.history.keys())\n",
        "# \"Loss\"\n",
        "plt.plot(history.history['loss'])\n",
        "plt.title('model loss')\n",
        "plt.ylabel('loss')\n",
        "plt.xlabel('epoch')\n",
        "plt.legend(['train', 'validation'], loc='upper left')\n",
        "plt.show()\n",
        "\n",
        "\n",
        "y_test_model=model.predict(X_test)\n",
        "rmse=0\n",
        "std=0\n",
        "for i in range(len(X_test)):\n",
        "    print(\"Predicted=%s ,true value=%s\" % (y_test_model[i] ,y_test[i]))\n",
        "    rmse+= math.pow(y_test_model[i] - y_test[i],2)\n",
        "rmse=math.sqrt(rmse/len(X_test))\n",
        "print(\"RMSE=%s\" % (rmse))\n",
        "\n",
        "#variance score\n",
        "print(\"variance score= \",explained_variance_score(y_test, y_test_model))\n",
        "print(\"mean_absolute_error score= \",mean_absolute_error(y_test, y_test_model))\n",
        "\n",
        "\n",
        "plt.scatter(y_test,y_test_model,s=3**2)\n",
        "plt.plot([0,1]) \n",
        "plt.title('pred vs actual')\n",
        "plt.ylabel('act')\n",
        "plt.xlabel('pred')\n",
        "#plt.legend(['pred', 'actual'], loc='upper left')\n",
        "plt.show()\n",
        "\n",
        "# fig, ax = plt.subplots()\n",
        "# ax.scatter(y_test_model,y_test, s=1**2, cmap=plt.cm.coolwarm, zorder=10)\n",
        "# lims = [\n",
        "#     np.min([ax.get_xlim(), ax.get_ylim()]),  # min of both axes\n",
        "#     np.max([ax.get_xlim(), ax.get_ylim()]),  # max of both axes\n",
        "# ]\n",
        "\n",
        "# # now plot both limits against eachother\n",
        "# ax.plot(lims, lims, 'k-', alpha=0.75, zorder=0)\n",
        "# ax.set_aspect('equal')\n",
        "# ax.set_xlim(lims)\n",
        "# ax.set_ylim(lims)\n",
        "# ax.set_xlabel('pred')\n",
        "# ax.set_ylabel('actual')\n"
      ],
      "execution_count": 4,
      "outputs": [
        {
          "output_type": "stream",
          "text": [
            "/usr/local/lib/python3.6/dist-packages/sklearn/preprocessing/data.py:323: DataConversionWarning: Data with input dtype int64, float64 were all converted to float64 by MinMaxScaler.\n",
            "  return self.partial_fit(X, y)\n"
          ],
          "name": "stderr"
        },
        {
          "output_type": "stream",
          "text": [
            "X_whole\n",
            "\n",
            "[[0.11019667 0.04576657 0.3405491  ... 0.72649573 0.98113208 0.25490196]\n",
            " [0.18892623 0.80615221 0.09609293 ... 0.72649573 0.98113208 0.25490196]\n",
            " [0.46140411 0.52954791 0.06995776 ... 0.72649573 0.98113208 0.25490196]\n",
            " ...\n",
            " [0.27298054 0.07229409 0.56797782 ... 0.51282051 1.         0.        ]\n",
            " [0.20789937 0.34776739 0.43202218 ... 0.72649573 1.         0.41176471]\n",
            " [0.01589756 0.11464145 0.3467529  ... 0.18803419 1.         1.        ]]\n",
            "y_whole\n",
            "\n",
            "[[0.3293158 ]\n",
            " [0.41429976]\n",
            " [0.6297138 ]\n",
            " [0.50682624]\n",
            " [0.55918512]\n",
            " [0.20877436]\n",
            " [0.44312845]\n",
            " [0.59577491]\n",
            " [0.43480437]\n",
            " [0.4622886 ]\n",
            " [0.26506637]\n",
            " [0.49897142]\n",
            " [0.50038169]\n",
            " [0.4152745 ]\n",
            " [0.39477485]\n",
            " [0.        ]\n",
            " [0.16734777]\n",
            " [0.21833132]\n",
            " [0.16761207]\n",
            " [0.31792005]\n",
            " [0.23689343]\n",
            " [0.63847736]\n",
            " [0.72409473]\n",
            " [0.54081625]\n",
            " [0.01131201]\n",
            " [0.13901253]\n",
            " [0.17245393]\n",
            " [0.15195101]\n",
            " [0.20993356]\n",
            " [0.45725394]\n",
            " [0.48209533]\n",
            " [0.47246958]\n",
            " [0.31449348]\n",
            " [0.39607939]\n",
            " [0.61371087]\n",
            " [0.73964423]\n",
            " [0.16197161]\n",
            " [0.50606508]\n",
            " [0.49498214]\n",
            " [0.52651619]\n",
            " [0.58703059]\n",
            " [0.59122578]\n",
            " [0.69991617]\n",
            " [0.77678233]\n",
            " [0.00910418]\n",
            " [0.34131363]\n",
            " [0.21230084]\n",
            " [0.3051137 ]\n",
            " [0.27973817]\n",
            " [0.43809826]\n",
            " [0.53653138]\n",
            " [0.71192134]\n",
            " [0.63632378]\n",
            " [0.65057819]\n",
            " [0.52612393]\n",
            " [0.66575939]\n",
            " [0.70769067]\n",
            " [0.57495997]\n",
            " [0.69164462]\n",
            " [0.21546201]\n",
            " [0.40283222]\n",
            " [0.39370272]\n",
            " [0.35603193]\n",
            " [0.38754895]\n",
            " [0.30917981]\n",
            " [0.30917981]\n",
            " [0.30917981]\n",
            " [0.35434596]\n",
            " [0.29456723]\n",
            " [0.50117555]\n",
            " [0.44114126]\n",
            " [0.0602946 ]\n",
            " [0.39806294]\n",
            " [0.35840113]\n",
            " [0.37754275]\n",
            " [0.55887048]\n",
            " [0.32603035]\n",
            " [0.40858035]\n",
            " [0.17683947]\n",
            " [0.67615901]\n",
            " [0.68941024]\n",
            " [0.1166376 ]\n",
            " [0.42525136]\n",
            " [1.        ]\n",
            " [0.67658179]\n",
            " [0.35992737]\n",
            " [0.436518  ]\n",
            " [0.48668332]\n",
            " [0.43864001]\n",
            " [0.30917981]\n",
            " [0.40668934]\n",
            " [0.33574814]]\n",
            "X_train\n",
            "\n",
            "[[0.11019667 0.04576657 0.3405491  ... 0.72649573 0.98113208 0.25490196]\n",
            " [0.18892623 0.80615221 0.09609293 ... 0.72649573 0.98113208 0.25490196]\n",
            " [0.46140411 0.52954791 0.06995776 ... 0.72649573 0.98113208 0.25490196]\n",
            " ...\n",
            " [0.30776178 0.85477369 0.18730201 ... 0.18803419 1.         1.        ]\n",
            " [0.39032941 0.58550547 0.22742872 ... 0.18803419 1.         1.        ]\n",
            " [0.1598446  0.28526188 0.35361668 ... 0.72649573 0.98113208 0.25490196]]\n",
            "y_train\n",
            "\n",
            "[0.3293158  0.41429976 0.6297138  0.50682624 0.55918512 0.20877436\n",
            " 0.44312845 0.59577491 0.43480437 0.4622886  0.26506637 0.49897142\n",
            " 0.50038169 0.4152745  0.39477485 0.         0.16734777 0.21833132\n",
            " 0.16761207 0.31792005 0.23689343 0.63847736 0.72409473 0.54081625\n",
            " 0.01131201 0.13901253 0.17245393 0.15195101 0.20993356 0.45725394\n",
            " 0.48209533 0.47246958 0.31449348 0.39607939 0.61371087 0.73964423\n",
            " 0.16197161 0.50606508 0.49498214 0.52651619 0.58703059 0.59122578\n",
            " 0.69991617 0.77678233 0.00910418 0.34131363 0.21230084 0.3051137\n",
            " 0.27973817 0.43809826 0.53653138 0.71192134 0.63632378 0.65057819\n",
            " 0.52612393 0.66575939 0.70769067 0.57495997 0.69164462 0.21546201\n",
            " 0.40283222 0.39370272 0.35603193 0.38754895 0.30917981 0.30917981\n",
            " 0.30917981 0.35434596 0.29456723 0.50117555 0.44114126 0.0602946\n",
            " 0.39806294 0.35840113 0.37754275 0.55887048]\n",
            "X_test\n",
            "\n",
            "[[0.15092885 0.27257315 0.42687434 0.43160718 0.84628882 0.44848575\n",
            "  0.81512126 0.51448363 0.64100731 0.575911   0.72871769 0.08872249\n",
            "  1.         0.12171184 0.39992572 0.47762206 0.85861359 0.72363718\n",
            "  0.64167478 0.734375   0.         0.57142857 0.         0.5304878\n",
            "  1.         0.28888889 0.56737589 0.62393162 1.         0.78431373]\n",
            " [0.07196074 0.23754997 0.32444562 0.31008871 0.71784524 0.24970309\n",
            "  0.60242511 0.46851385 0.52158135 0.45211438 0.65510693 0.31911136\n",
            "  0.87709053 0.09871612 0.36691583 0.51401447 0.86513384 0.67605004\n",
            "  0.68081792 0.59375    0.         0.5        0.         0.6097561\n",
            "  0.98857143 0.60740741 0.43262411 0.69230769 0.9245283  0.94117647]\n",
            " [0.10246514 0.28392372 0.4439018  0.37342686 0.70942271 0.44566508\n",
            "  0.75335235 0.52959698 0.82476494 0.56913642 0.80369086 0.\n",
            "  0.98168673 0.12659058 0.52226194 0.35556058 0.67004118 0.56546023\n",
            "  0.65511198 0.         0.         0.7        0.         0.0304878\n",
            "  0.98285714 0.31111111 0.30496454 0.30769231 1.         1.        ]\n",
            " [0.12766184 0.04329026 0.47795671 0.55147514 0.73802421 0.49717933\n",
            "  0.68987161 0.59571788 0.14537857 0.47589674 0.66968046 0.89764419\n",
            "  0.49739801 0.06504993 0.78638748 0.66161844 0.80061771 0.51899017\n",
            "  0.76923077 0.34375    0.         0.71428571 0.         0.53658537\n",
            "  0.97714286 0.25925926 0.         1.         0.98113208 0.98039216]\n",
            " [0.11826899 0.28421183 0.3718321  0.4225294  0.83084752 0.4043943\n",
            "  0.76861626 0.46914358 0.55176775 0.50367254 0.68454298 0.20326352\n",
            "  0.92920987 0.12151213 0.39542226 0.5198915  0.89104324 0.63181412\n",
            "  0.61246349 0.34375    0.         0.71428571 0.         0.53658537\n",
            "  0.97714286 0.25925926 0.         1.         0.98113208 0.98039216]\n",
            " [0.14980426 0.22458742 0.48482049 0.58139055 0.85488682 0.62796912\n",
            "  0.9        0.55415617 0.6449112  0.62044498 0.66980431 0.06611804\n",
            "  0.73320621 0.09857347 0.61469892 0.53322785 0.77487989 0.49620197\n",
            "  0.65861733 0.390625   0.         0.62857143 0.         0.55487805\n",
            "  1.         0.18518519 0.5106383  0.85470085 1.         0.96078431]\n",
            " [0.         0.27083021 0.28695882 0.         0.30180733 0.\n",
            "  0.24721826 0.44647355 0.41056799 0.47807174 0.36181983 0.3444001\n",
            "  0.88396298 0.03631954 0.18236687 0.22626582 0.48026767 0.68029491\n",
            "  0.6872444  0.2265625  0.81818182 0.         0.         0.48170732\n",
            "  1.         1.         0.85815603 0.         1.         0.98039216]\n",
            " [0.03015084 0.20640318 0.33500528 0.23643491 0.58975259 0.18482779\n",
            "  0.48159772 0.50393577 0.47237037 0.51387007 0.47741722 0.26411896\n",
            "  0.89683391 0.05720399 0.27531455 0.4556962  0.75343171 0.7857462\n",
            "  0.74644596 0.90625    0.         1.         0.         0.55487805\n",
            "  1.         0.97037037 0.87234043 0.58974359 1.         1.        ]\n",
            " [0.13606216 0.29033833 0.41908659 0.52403549 0.9289349  0.47090261\n",
            "  0.83195435 0.52392947 0.55253753 0.43182629 0.7398233  0.27969484\n",
            "  0.85091169 0.1146077  0.43637123 0.6471519  1.         0.68811439\n",
            "  0.68003895 0.59375    0.         0.41428571 0.         0.5\n",
            "  0.96       0.2        0.45390071 0.70940171 0.         0.23529412]\n",
            " [0.01133532 0.22780425 0.51636748 0.21786672 0.47517108 0.27152613\n",
            "  0.51797432 0.60799748 0.47616429 0.4285103  0.512757   0.43633667\n",
            "  0.88594923 0.08011412 0.23928687 0.27802893 0.49485244 0.67269884\n",
            "  0.7443038  0.2265625  0.         0.         0.         1.\n",
            "  1.         0.97037037 0.95744681 0.94017094 1.         0.90196078]\n",
            " [0.07741328 0.15810314 0.58592925 0.30802558 0.60501842 0.45293943\n",
            "  0.73537803 0.56738035 0.52207621 0.37374314 0.69783668 0.48504221\n",
            "  0.74174711 0.1253067  0.36338734 0.2056962  0.47700755 0.33802502\n",
            "  0.54741967 0.6640625  0.54545455 0.         0.         0.40243902\n",
            "  0.97714286 0.97777778 1.         0.85470085 1.         0.62745098]\n",
            " [0.40026752 0.06585805 0.77666315 0.68454714 0.84628882 0.77716746\n",
            "  0.98559201 0.73520151 0.52570517 0.42961563 0.66897861 0.38445237\n",
            "  0.52822469 0.0232525  0.69863968 0.54294756 0.65425532 0.24240393\n",
            "  0.67458617 0.109375   0.         0.         0.         0.56097561\n",
            "  0.97142857 0.98518519 0.73049645 0.76068376 1.         0.96078431]\n",
            " [0.22884905 0.13014936 0.82259768 0.60944914 0.79031409 0.74406176\n",
            "  0.98002853 0.78731108 0.55226261 0.3856878  0.71137809 0.46377989\n",
            "  0.67274461 0.07437946 0.54617206 0.42811935 0.54975978 0.35120643\n",
            "  0.73729309 0.7109375  0.         0.72142857 0.         0.56097561\n",
            "  0.43428571 0.94074074 0.86524823 0.47863248 1.         0.84313725]\n",
            " [0.27298054 0.07229409 0.56797782 0.61275015 0.87383752 0.62796912\n",
            "  0.89172611 0.58154912 0.41634134 0.48399059 0.61580381 0.40942323\n",
            "  0.48734755 0.02099857 0.54510423 0.60669078 0.82618394 0.40192136\n",
            "  0.60272639 1.         1.         0.64285714 0.         0.43292683\n",
            "  0.         0.94074074 0.39716312 0.51282051 1.         0.        ]\n",
            " [0.20789937 0.34776739 0.43202218 0.56447287 1.         0.56146081\n",
            "  0.95905849 0.50157431 0.59130148 0.50035656 0.80967715 0.14926006\n",
            "  0.94645056 0.16345221 0.4661312  0.60782098 0.99571036 0.59428061\n",
            "  0.5976631  0.953125   0.         0.73571429 0.         0.56097561\n",
            "  1.         0.25185185 0.60992908 0.72649573 1.         0.41176471]\n",
            " [0.01589756 0.11464145 0.3467529  0.7010522  0.63116336 0.70249406\n",
            "  0.7064194  0.37185139 0.75493484 0.64829209 0.68289159 0.42563487\n",
            "  0.38890875 0.2617689  0.31087794 0.68738698 0.57172272 0.76697945\n",
            "  0.40954236 0.7421875  0.         0.68571429 0.         0.56097561\n",
            "  0.98857143 0.31851852 0.20567376 0.18803419 1.         1.        ]]\n",
            "y_test\n",
            "\n",
            "[0.32603035 0.40858035 0.17683947 0.67615901 0.68941024 0.1166376\n",
            " 0.42525136 1.         0.67658179 0.35992737 0.436518   0.48668332\n",
            " 0.43864001 0.30917981 0.40668934 0.33574814]\n",
            "_________________________________________________________________\n",
            "Layer (type)                 Output Shape              Param #   \n",
            "=================================================================\n",
            "dense_6 (Dense)              (None, 80)                2480      \n",
            "_________________________________________________________________\n",
            "dense_7 (Dense)              (None, 1)                 81        \n",
            "=================================================================\n",
            "Total params: 2,561\n",
            "Trainable params: 2,561\n",
            "Non-trainable params: 0\n",
            "_________________________________________________________________\n",
            "dict_keys(['loss', 'mean_squared_error', 'mean_absolute_error'])\n"
          ],
          "name": "stdout"
        },
        {
          "output_type": "display_data",
          "data": {
            "image/png": "[encoded data removed]",
            "text/plain": [
              "<Figure size 576x396 with 1 Axes>"
            ]
          },
          "metadata": {
            "tags": []
          }
        },
        {
          "output_type": "stream",
          "text": [
            "Predicted=[0.41192645] ,true value=0.3260303521892288\n",
            "Predicted=[0.36058238] ,true value=0.40858034713699387\n",
            "Predicted=[0.3352682] ,true value=0.17683947389738927\n",
            "Predicted=[0.5490377] ,true value=0.676159006781116\n",
            "Predicted=[0.5172685] ,true value=0.6894102366490499\n",
            "Predicted=[0.21872848] ,true value=0.11663759513974795\n",
            "Predicted=[0.36253318] ,true value=0.4252513590702519\n",
            "Predicted=[0.35459045] ,true value=0.9999999999999999\n",
            "Predicted=[0.6211054] ,true value=0.6765817938112927\n",
            "Predicted=[0.21975769] ,true value=0.35992737162064947\n",
            "Predicted=[0.5728566] ,true value=0.4365179982565729\n",
            "Predicted=[0.60584706] ,true value=0.4866833181702226\n",
            "Predicted=[0.24776264] ,true value=0.438640013579065\n",
            "Predicted=[0.26157093] ,true value=0.30917981081345247\n",
            "Predicted=[0.30193663] ,true value=0.4066893419568608\n",
            "Predicted=[0.36925352] ,true value=0.33574813610559584\n",
            "RMSE=0.19649964841561596\n",
            "variance score=  0.2107793016427787\n",
            "mean_absolute_error score=  0.1393560800596753\n"
          ],
          "name": "stdout"
        },
        {
          "output_type": "display_data",
          "data": {
            "image/png": "[encoded data removed]",
            "text/plain": [
              "<Figure size 576x396 with 1 Axes>"
            ]
          },
          "metadata": {
            "tags": []
          }
        }
      ]
    }
  ]
}